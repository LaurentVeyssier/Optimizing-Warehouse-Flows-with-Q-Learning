{
 "cells": [
  {
   "cell_type": "code",
   "execution_count": 171,
   "metadata": {},
   "outputs": [],
   "source": [
    "# Artificial Intelligence for Business\n",
    "# Optimizing Warehouse Flows with Q-Learning\n",
    "# Return shortest route from robot location to priority destination\n",
    "\n",
    "# import librairies\n",
    "import numpy as np\n",
    "\n",
    "# Setting the parameters gamma and alpha for the Q-Learning algorithm\n",
    "gamma = 0.75\n",
    "alpha = 0.9\n",
    "\n",
    "# DEFINING THE ENVIRONMENT \n",
    "# Simple warehouse with locations:\n",
    "######################\n",
    "# A    B     C  #  D #\n",
    "#####                #\n",
    "# E #  F  #  G     H #\n",
    "#   #     #####      #\n",
    "# I    J     K     L #\n",
    "######################\n",
    "\n",
    "# Defining the states\n",
    "location_to_state = {'A': 0, 'B': 1, 'C': 2, 'D': 3, 'E': 4, 'F': 5, \n",
    "                     'G': 6, 'H': 7, 'I': 8, 'J': 9, 'K': 10, 'L': 11}\n",
    "\n",
    "# Defining the actions (moving to any location)\n",
    "actions = [0,1,2,3,4,5,6,7,8,9,10,11]\n",
    "\n",
    "# Defining the rewards (rows = each state, columns = each action leading to a new state, 1 if possible to go to a new state, 0 if not)\n",
    "R = np.array([[0,1,0,0,0,0,0,0,0,0,0,0],    # from A we can only go to B\n",
    "              [1,0,1,0,0,1,0,0,0,0,0,0],    # from B we can go to A, C, F \n",
    "              [0,1,0,0,0,0,1,0,0,0,0,0],    # ....\n",
    "              [0,0,0,0,0,0,0,1,0,0,0,0],\n",
    "              [0,0,0,0,0,0,0,0,1,0,0,0],\n",
    "              [0,1,0,0,0,0,0,0,0,1,0,0],\n",
    "              [0,0,1,0,0,0,1,1,0,0,0,0],\n",
    "              [0,0,0,1,0,0,1,0,0,0,0,1],\n",
    "              [0,0,0,0,1,0,0,0,0,1,0,0],\n",
    "              [0,0,0,0,0,1,0,0,1,0,1,0],\n",
    "              [0,0,0,0,0,0,0,0,0,1,0,1],\n",
    "              [0,0,0,0,0,0,0,1,0,0,1,0]])"
   ]
  },
  {
   "cell_type": "code",
   "execution_count": 107,
   "metadata": {},
   "outputs": [],
   "source": [
    "# BUILDING THE AI SOLUTION WITH Q-LEARNING\n",
    "\n",
    "# Maping from the states to the locations\n",
    "state_to_location = {state: location for location, state in location_to_state.items()}"
   ]
  },
  {
   "cell_type": "code",
   "execution_count": 108,
   "metadata": {},
   "outputs": [],
   "source": [
    "# Implement Q-Learning process\n",
    "def calculate_Q_values(R):\n",
    "    # Initialize Q-Values to zeros\n",
    "    Q = np.array(np.zeros((R.shape[0], R.shape[1])))\n",
    "    # Calculate Q_values\n",
    "    for i in range(1000):\n",
    "        current_state = np.random.randint(0, R.shape[1])  # randomly select an action\n",
    "        playable_actions = []\n",
    "        for action in range(R.shape[1]):\n",
    "            if R[current_state, action] > 0:\n",
    "                playable_actions.append(action)\n",
    "        next_state = np.random.choice(playable_actions)     # play a random action from possible ones    \n",
    "        # compute Temporal Difference\n",
    "        TD = R[current_state, next_state] + gamma * Q[next_state, np.argmax(Q[next_state,:])] \\\n",
    "         - Q[current_state, next_state]        # played action = next_state in this model\n",
    "        # Update Q- value\n",
    "        Q[current_state, next_state] += alpha * TD\n",
    "    return Q"
   ]
  },
  {
   "cell_type": "code",
   "execution_count": 172,
   "metadata": {},
   "outputs": [],
   "source": [
    "# Calculate route from starting_location to end_location\n",
    "def route (starting_location, ending_location):\n",
    "    # Assign a big reward to the target location\n",
    "    R_new = np.copy(R)\n",
    "    ending_state = location_to_state[ending_location]\n",
    "    R_new[ending_state,ending_state] = 1000\n",
    "    Q = calculate_Q_values(R_new)\n",
    "    #print(Q.astype(int))\n",
    "    \n",
    "    # initialize route\n",
    "    route=[starting_location]\n",
    "    next_location = starting_location\n",
    "    \n",
    "    # Calculate optimal route\n",
    "    while (next_location != ending_location) :\n",
    "        starting_state = location_to_state[starting_location]  # convert location to state index\n",
    "        next_state = np.argmax(Q[starting_state,:])\n",
    "        next_location = state_to_location[next_state]          # convert state index to location\n",
    "        route.append(next_location)                            # append location to route\n",
    "        starting_location = next_location\n",
    "    return route"
   ]
  },
  {
   "cell_type": "code",
   "execution_count": 173,
   "metadata": {},
   "outputs": [
    {
     "name": "stdout",
     "output_type": "stream",
     "text": [
      "Route From -> To\n"
     ]
    },
    {
     "data": {
      "text/plain": [
       "['E', 'I', 'J', 'K', 'L', 'H', 'D']"
      ]
     },
     "execution_count": 173,
     "metadata": {},
     "output_type": "execute_result"
    }
   ],
   "source": [
    "print('Route From -> To')\n",
    "route('E', 'D')"
   ]
  },
  {
   "cell_type": "code",
   "execution_count": 165,
   "metadata": {},
   "outputs": [],
   "source": [
    "# Function to handle intermediary location before ending_location (approach 1)\n",
    "def two_leg_route(starting_location, intermediate_location, ending_location):\n",
    "    return route(starting_location, intermediate_location)[:-1] + route(intermediate_location, ending_location)"
   ]
  },
  {
   "cell_type": "code",
   "execution_count": 169,
   "metadata": {},
   "outputs": [
    {
     "name": "stdout",
     "output_type": "stream",
     "text": [
      "Route From -> by -> To\n",
      "['E', 'I', 'J', 'F', 'B', 'C', 'G', 'H', 'D']\n"
     ]
    }
   ],
   "source": [
    "print('Route From -> by -> To')\n",
    "print(two_leg_route('E', 'B', 'D'))"
   ]
  },
  {
   "cell_type": "code",
   "execution_count": 178,
   "metadata": {},
   "outputs": [],
   "source": [
    "# Calculate route from starting_location to end_location (approach 2)\n",
    "def best_route (starting_location, ending_location, intermediate_location=None):\n",
    "    \n",
    "    if intermediate_location != None:\n",
    "        final_location = ending_location\n",
    "        ending_location = intermediate_location\n",
    "        \n",
    "    # Assign a big reward to the target location\n",
    "    R_new = np.copy(R)\n",
    "    ending_state = location_to_state[ending_location]\n",
    "    R_new[ending_state,ending_state] = 1000\n",
    "    Q = calculate_Q_values(R_new)\n",
    "    #print(Q.astype(int))\n",
    "    \n",
    "    # initialize route\n",
    "    route_path = [starting_location]\n",
    "    next_location = starting_location\n",
    "    \n",
    "    # Calculate optimal route\n",
    "    while (next_location != ending_location) :\n",
    "        starting_state = location_to_state[starting_location]  # convert location to state index\n",
    "        next_state = np.argmax(Q[starting_state,:])\n",
    "        next_location = state_to_location[next_state]          # convert state index to location\n",
    "        route_path.append(next_location)                            # append location to route\n",
    "        starting_location = next_location\n",
    "    \n",
    "    if intermediate_location != None:\n",
    "        route_path = route_path[:-1] + route(intermediate_location, final_location)\n",
    "        \n",
    "    return route_path"
   ]
  },
  {
   "cell_type": "code",
   "execution_count": 179,
   "metadata": {},
   "outputs": [
    {
     "name": "stdout",
     "output_type": "stream",
     "text": [
      "Route From -> by -> To\n",
      "['E', 'I', 'J', 'F', 'B', 'C', 'G', 'H', 'D']\n"
     ]
    }
   ],
   "source": [
    "print('Route From -> by -> To')\n",
    "print(best_route('E', 'D', 'B'))"
   ]
  },
  {
   "cell_type": "code",
   "execution_count": null,
   "metadata": {},
   "outputs": [],
   "source": []
  }
 ],
 "metadata": {
  "kernelspec": {
   "display_name": "tensorflow_py37",
   "language": "python",
   "name": "tensorflow_py37"
  },
  "language_info": {
   "codemirror_mode": {
    "name": "ipython",
    "version": 3
   },
   "file_extension": ".py",
   "mimetype": "text/x-python",
   "name": "python",
   "nbconvert_exporter": "python",
   "pygments_lexer": "ipython3",
   "version": "3.7.8"
  }
 },
 "nbformat": 4,
 "nbformat_minor": 4
}
